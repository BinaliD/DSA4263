{
  "nbformat": 4,
  "nbformat_minor": 0,
  "metadata": {
    "colab": {
      "provenance": [],
      "authorship_tag": "ABX9TyN9c+kN0d5wYpmDxBMas+FZ",
      "include_colab_link": true
    },
    "kernelspec": {
      "name": "python3",
      "display_name": "Python 3"
    },
    "language_info": {
      "name": "python"
    }
  },
  "cells": [
    {
      "cell_type": "markdown",
      "metadata": {
        "id": "view-in-github",
        "colab_type": "text"
      },
      "source": [
        "<a href=\"https://colab.research.google.com/github/BinaliD/DSA4263/blob/main/BotDetection_test.ipynb\" target=\"_parent\"><img src=\"https://colab.research.google.com/assets/colab-badge.svg\" alt=\"Open In Colab\"/></a>"
      ]
    },
    {
      "cell_type": "code",
      "execution_count": 1,
      "metadata": {
        "id": "PFjH2rpA5cK_"
      },
      "outputs": [],
      "source": [
        "import numpy as np\n",
        "import pandas as pd\n",
        "import seaborn as sns\n",
        "import plotly.express as px\n",
        "import matplotlib.pyplot as plt\n"
      ]
    },
    {
      "cell_type": "code",
      "source": [
        "## allow colab to read from google drive\n",
        "from google.colab import drive\n",
        "drive.mount('/content/drive')"
      ],
      "metadata": {
        "colab": {
          "base_uri": "https://localhost:8080/"
        },
        "id": "EdAwgOxA5kQ-",
        "outputId": "2d79ff61-b4d0-481e-9705-c3f85bbecb0f"
      },
      "execution_count": 2,
      "outputs": [
        {
          "output_type": "stream",
          "name": "stdout",
          "text": [
            "Mounted at /content/drive\n"
          ]
        }
      ]
    },
    {
      "cell_type": "code",
      "source": [
        "##working directory containing the dataset to interact with\n",
        "data_path = '/content/drive/MyDrive/DSA4263-FinalProject/BotDetection/bot_detection_data.csv'    #please change to your local filepath directory when running\n"
      ],
      "metadata": {
        "id": "IszulnEj5kyF"
      },
      "execution_count": 3,
      "outputs": []
    },
    {
      "cell_type": "code",
      "source": [
        "#import data\n",
        "data_df = pd.read_csv(data_path)"
      ],
      "metadata": {
        "id": "bd6y_4xp59uy"
      },
      "execution_count": 4,
      "outputs": []
    },
    {
      "cell_type": "code",
      "source": [
        "data_df.head()"
      ],
      "metadata": {
        "colab": {
          "base_uri": "https://localhost:8080/",
          "height": 306
        },
        "id": "BNkZ7Wep6BOZ",
        "outputId": "20997621-bc97-4b53-ebb9-301f2fcfe063"
      },
      "execution_count": 5,
      "outputs": [
        {
          "output_type": "execute_result",
          "data": {
            "text/plain": [
              "   User ID        Username                                              Tweet  \\\n",
              "0   132131           flong  Station activity person against natural majori...   \n",
              "1   289683  hinesstephanie  Authority research natural life material staff...   \n",
              "2   779715      roberttran  Manage whose quickly especially foot none to g...   \n",
              "3   696168          pmason  Just cover eight opportunity strong policy which.   \n",
              "4   704441          noah87                      Animal sign six data good or.   \n",
              "\n",
              "   Retweet Count  Mention Count  Follower Count  Verified  Bot Label  \\\n",
              "0             85              1            2353     False          1   \n",
              "1             55              5            9617      True          0   \n",
              "2              6              2            4363      True          0   \n",
              "3             54              5            2242      True          1   \n",
              "4             26              3            8438     False          1   \n",
              "\n",
              "       Location           Created At            Hashtags  \n",
              "0     Adkinston  2020-05-11 15:29:50                 NaN  \n",
              "1    Sanderston  2022-11-26 05:18:10           both live  \n",
              "2  Harrisonfurt  2022-08-08 03:16:54         phone ahead  \n",
              "3  Martinezberg  2021-08-14 22:27:05  ever quickly new I  \n",
              "4  Camachoville  2020-04-13 21:24:21     foreign mention  "
            ],
            "text/html": [
              "\n",
              "  <div id=\"df-bbbeabee-ff38-4b25-97f4-72710199e64e\" class=\"colab-df-container\">\n",
              "    <div>\n",
              "<style scoped>\n",
              "    .dataframe tbody tr th:only-of-type {\n",
              "        vertical-align: middle;\n",
              "    }\n",
              "\n",
              "    .dataframe tbody tr th {\n",
              "        vertical-align: top;\n",
              "    }\n",
              "\n",
              "    .dataframe thead th {\n",
              "        text-align: right;\n",
              "    }\n",
              "</style>\n",
              "<table border=\"1\" class=\"dataframe\">\n",
              "  <thead>\n",
              "    <tr style=\"text-align: right;\">\n",
              "      <th></th>\n",
              "      <th>User ID</th>\n",
              "      <th>Username</th>\n",
              "      <th>Tweet</th>\n",
              "      <th>Retweet Count</th>\n",
              "      <th>Mention Count</th>\n",
              "      <th>Follower Count</th>\n",
              "      <th>Verified</th>\n",
              "      <th>Bot Label</th>\n",
              "      <th>Location</th>\n",
              "      <th>Created At</th>\n",
              "      <th>Hashtags</th>\n",
              "    </tr>\n",
              "  </thead>\n",
              "  <tbody>\n",
              "    <tr>\n",
              "      <th>0</th>\n",
              "      <td>132131</td>\n",
              "      <td>flong</td>\n",
              "      <td>Station activity person against natural majori...</td>\n",
              "      <td>85</td>\n",
              "      <td>1</td>\n",
              "      <td>2353</td>\n",
              "      <td>False</td>\n",
              "      <td>1</td>\n",
              "      <td>Adkinston</td>\n",
              "      <td>2020-05-11 15:29:50</td>\n",
              "      <td>NaN</td>\n",
              "    </tr>\n",
              "    <tr>\n",
              "      <th>1</th>\n",
              "      <td>289683</td>\n",
              "      <td>hinesstephanie</td>\n",
              "      <td>Authority research natural life material staff...</td>\n",
              "      <td>55</td>\n",
              "      <td>5</td>\n",
              "      <td>9617</td>\n",
              "      <td>True</td>\n",
              "      <td>0</td>\n",
              "      <td>Sanderston</td>\n",
              "      <td>2022-11-26 05:18:10</td>\n",
              "      <td>both live</td>\n",
              "    </tr>\n",
              "    <tr>\n",
              "      <th>2</th>\n",
              "      <td>779715</td>\n",
              "      <td>roberttran</td>\n",
              "      <td>Manage whose quickly especially foot none to g...</td>\n",
              "      <td>6</td>\n",
              "      <td>2</td>\n",
              "      <td>4363</td>\n",
              "      <td>True</td>\n",
              "      <td>0</td>\n",
              "      <td>Harrisonfurt</td>\n",
              "      <td>2022-08-08 03:16:54</td>\n",
              "      <td>phone ahead</td>\n",
              "    </tr>\n",
              "    <tr>\n",
              "      <th>3</th>\n",
              "      <td>696168</td>\n",
              "      <td>pmason</td>\n",
              "      <td>Just cover eight opportunity strong policy which.</td>\n",
              "      <td>54</td>\n",
              "      <td>5</td>\n",
              "      <td>2242</td>\n",
              "      <td>True</td>\n",
              "      <td>1</td>\n",
              "      <td>Martinezberg</td>\n",
              "      <td>2021-08-14 22:27:05</td>\n",
              "      <td>ever quickly new I</td>\n",
              "    </tr>\n",
              "    <tr>\n",
              "      <th>4</th>\n",
              "      <td>704441</td>\n",
              "      <td>noah87</td>\n",
              "      <td>Animal sign six data good or.</td>\n",
              "      <td>26</td>\n",
              "      <td>3</td>\n",
              "      <td>8438</td>\n",
              "      <td>False</td>\n",
              "      <td>1</td>\n",
              "      <td>Camachoville</td>\n",
              "      <td>2020-04-13 21:24:21</td>\n",
              "      <td>foreign mention</td>\n",
              "    </tr>\n",
              "  </tbody>\n",
              "</table>\n",
              "</div>\n",
              "    <div class=\"colab-df-buttons\">\n",
              "\n",
              "  <div class=\"colab-df-container\">\n",
              "    <button class=\"colab-df-convert\" onclick=\"convertToInteractive('df-bbbeabee-ff38-4b25-97f4-72710199e64e')\"\n",
              "            title=\"Convert this dataframe to an interactive table.\"\n",
              "            style=\"display:none;\">\n",
              "\n",
              "  <svg xmlns=\"http://www.w3.org/2000/svg\" height=\"24px\" viewBox=\"0 -960 960 960\">\n",
              "    <path d=\"M120-120v-720h720v720H120Zm60-500h600v-160H180v160Zm220 220h160v-160H400v160Zm0 220h160v-160H400v160ZM180-400h160v-160H180v160Zm440 0h160v-160H620v160ZM180-180h160v-160H180v160Zm440 0h160v-160H620v160Z\"/>\n",
              "  </svg>\n",
              "    </button>\n",
              "\n",
              "  <style>\n",
              "    .colab-df-container {\n",
              "      display:flex;\n",
              "      gap: 12px;\n",
              "    }\n",
              "\n",
              "    .colab-df-convert {\n",
              "      background-color: #E8F0FE;\n",
              "      border: none;\n",
              "      border-radius: 50%;\n",
              "      cursor: pointer;\n",
              "      display: none;\n",
              "      fill: #1967D2;\n",
              "      height: 32px;\n",
              "      padding: 0 0 0 0;\n",
              "      width: 32px;\n",
              "    }\n",
              "\n",
              "    .colab-df-convert:hover {\n",
              "      background-color: #E2EBFA;\n",
              "      box-shadow: 0px 1px 2px rgba(60, 64, 67, 0.3), 0px 1px 3px 1px rgba(60, 64, 67, 0.15);\n",
              "      fill: #174EA6;\n",
              "    }\n",
              "\n",
              "    .colab-df-buttons div {\n",
              "      margin-bottom: 4px;\n",
              "    }\n",
              "\n",
              "    [theme=dark] .colab-df-convert {\n",
              "      background-color: #3B4455;\n",
              "      fill: #D2E3FC;\n",
              "    }\n",
              "\n",
              "    [theme=dark] .colab-df-convert:hover {\n",
              "      background-color: #434B5C;\n",
              "      box-shadow: 0px 1px 3px 1px rgba(0, 0, 0, 0.15);\n",
              "      filter: drop-shadow(0px 1px 2px rgba(0, 0, 0, 0.3));\n",
              "      fill: #FFFFFF;\n",
              "    }\n",
              "  </style>\n",
              "\n",
              "    <script>\n",
              "      const buttonEl =\n",
              "        document.querySelector('#df-bbbeabee-ff38-4b25-97f4-72710199e64e button.colab-df-convert');\n",
              "      buttonEl.style.display =\n",
              "        google.colab.kernel.accessAllowed ? 'block' : 'none';\n",
              "\n",
              "      async function convertToInteractive(key) {\n",
              "        const element = document.querySelector('#df-bbbeabee-ff38-4b25-97f4-72710199e64e');\n",
              "        const dataTable =\n",
              "          await google.colab.kernel.invokeFunction('convertToInteractive',\n",
              "                                                    [key], {});\n",
              "        if (!dataTable) return;\n",
              "\n",
              "        const docLinkHtml = 'Like what you see? Visit the ' +\n",
              "          '<a target=\"_blank\" href=https://colab.research.google.com/notebooks/data_table.ipynb>data table notebook</a>'\n",
              "          + ' to learn more about interactive tables.';\n",
              "        element.innerHTML = '';\n",
              "        dataTable['output_type'] = 'display_data';\n",
              "        await google.colab.output.renderOutput(dataTable, element);\n",
              "        const docLink = document.createElement('div');\n",
              "        docLink.innerHTML = docLinkHtml;\n",
              "        element.appendChild(docLink);\n",
              "      }\n",
              "    </script>\n",
              "  </div>\n",
              "\n",
              "\n",
              "<div id=\"df-1cfc1030-f0b9-4345-ae54-7530fe9ce0ac\">\n",
              "  <button class=\"colab-df-quickchart\" onclick=\"quickchart('df-1cfc1030-f0b9-4345-ae54-7530fe9ce0ac')\"\n",
              "            title=\"Suggest charts\"\n",
              "            style=\"display:none;\">\n",
              "\n",
              "<svg xmlns=\"http://www.w3.org/2000/svg\" height=\"24px\"viewBox=\"0 0 24 24\"\n",
              "     width=\"24px\">\n",
              "    <g>\n",
              "        <path d=\"M19 3H5c-1.1 0-2 .9-2 2v14c0 1.1.9 2 2 2h14c1.1 0 2-.9 2-2V5c0-1.1-.9-2-2-2zM9 17H7v-7h2v7zm4 0h-2V7h2v10zm4 0h-2v-4h2v4z\"/>\n",
              "    </g>\n",
              "</svg>\n",
              "  </button>\n",
              "\n",
              "<style>\n",
              "  .colab-df-quickchart {\n",
              "      --bg-color: #E8F0FE;\n",
              "      --fill-color: #1967D2;\n",
              "      --hover-bg-color: #E2EBFA;\n",
              "      --hover-fill-color: #174EA6;\n",
              "      --disabled-fill-color: #AAA;\n",
              "      --disabled-bg-color: #DDD;\n",
              "  }\n",
              "\n",
              "  [theme=dark] .colab-df-quickchart {\n",
              "      --bg-color: #3B4455;\n",
              "      --fill-color: #D2E3FC;\n",
              "      --hover-bg-color: #434B5C;\n",
              "      --hover-fill-color: #FFFFFF;\n",
              "      --disabled-bg-color: #3B4455;\n",
              "      --disabled-fill-color: #666;\n",
              "  }\n",
              "\n",
              "  .colab-df-quickchart {\n",
              "    background-color: var(--bg-color);\n",
              "    border: none;\n",
              "    border-radius: 50%;\n",
              "    cursor: pointer;\n",
              "    display: none;\n",
              "    fill: var(--fill-color);\n",
              "    height: 32px;\n",
              "    padding: 0;\n",
              "    width: 32px;\n",
              "  }\n",
              "\n",
              "  .colab-df-quickchart:hover {\n",
              "    background-color: var(--hover-bg-color);\n",
              "    box-shadow: 0 1px 2px rgba(60, 64, 67, 0.3), 0 1px 3px 1px rgba(60, 64, 67, 0.15);\n",
              "    fill: var(--button-hover-fill-color);\n",
              "  }\n",
              "\n",
              "  .colab-df-quickchart-complete:disabled,\n",
              "  .colab-df-quickchart-complete:disabled:hover {\n",
              "    background-color: var(--disabled-bg-color);\n",
              "    fill: var(--disabled-fill-color);\n",
              "    box-shadow: none;\n",
              "  }\n",
              "\n",
              "  .colab-df-spinner {\n",
              "    border: 2px solid var(--fill-color);\n",
              "    border-color: transparent;\n",
              "    border-bottom-color: var(--fill-color);\n",
              "    animation:\n",
              "      spin 1s steps(1) infinite;\n",
              "  }\n",
              "\n",
              "  @keyframes spin {\n",
              "    0% {\n",
              "      border-color: transparent;\n",
              "      border-bottom-color: var(--fill-color);\n",
              "      border-left-color: var(--fill-color);\n",
              "    }\n",
              "    20% {\n",
              "      border-color: transparent;\n",
              "      border-left-color: var(--fill-color);\n",
              "      border-top-color: var(--fill-color);\n",
              "    }\n",
              "    30% {\n",
              "      border-color: transparent;\n",
              "      border-left-color: var(--fill-color);\n",
              "      border-top-color: var(--fill-color);\n",
              "      border-right-color: var(--fill-color);\n",
              "    }\n",
              "    40% {\n",
              "      border-color: transparent;\n",
              "      border-right-color: var(--fill-color);\n",
              "      border-top-color: var(--fill-color);\n",
              "    }\n",
              "    60% {\n",
              "      border-color: transparent;\n",
              "      border-right-color: var(--fill-color);\n",
              "    }\n",
              "    80% {\n",
              "      border-color: transparent;\n",
              "      border-right-color: var(--fill-color);\n",
              "      border-bottom-color: var(--fill-color);\n",
              "    }\n",
              "    90% {\n",
              "      border-color: transparent;\n",
              "      border-bottom-color: var(--fill-color);\n",
              "    }\n",
              "  }\n",
              "</style>\n",
              "\n",
              "  <script>\n",
              "    async function quickchart(key) {\n",
              "      const quickchartButtonEl =\n",
              "        document.querySelector('#' + key + ' button');\n",
              "      quickchartButtonEl.disabled = true;  // To prevent multiple clicks.\n",
              "      quickchartButtonEl.classList.add('colab-df-spinner');\n",
              "      try {\n",
              "        const charts = await google.colab.kernel.invokeFunction(\n",
              "            'suggestCharts', [key], {});\n",
              "      } catch (error) {\n",
              "        console.error('Error during call to suggestCharts:', error);\n",
              "      }\n",
              "      quickchartButtonEl.classList.remove('colab-df-spinner');\n",
              "      quickchartButtonEl.classList.add('colab-df-quickchart-complete');\n",
              "    }\n",
              "    (() => {\n",
              "      let quickchartButtonEl =\n",
              "        document.querySelector('#df-1cfc1030-f0b9-4345-ae54-7530fe9ce0ac button');\n",
              "      quickchartButtonEl.style.display =\n",
              "        google.colab.kernel.accessAllowed ? 'block' : 'none';\n",
              "    })();\n",
              "  </script>\n",
              "</div>\n",
              "\n",
              "    </div>\n",
              "  </div>\n"
            ],
            "application/vnd.google.colaboratory.intrinsic+json": {
              "type": "dataframe",
              "variable_name": "data_df",
              "summary": "{\n  \"name\": \"data_df\",\n  \"rows\": 50000,\n  \"fields\": [\n    {\n      \"column\": \"User ID\",\n      \"properties\": {\n        \"dtype\": \"number\",\n        \"std\": 259756,\n        \"min\": 100025,\n        \"max\": 999995,\n        \"num_unique_values\": 50000,\n        \"samples\": [\n          715347,\n          810631,\n          529620\n        ],\n        \"semantic_type\": \"\",\n        \"description\": \"\"\n      }\n    },\n    {\n      \"column\": \"Username\",\n      \"properties\": {\n        \"dtype\": \"string\",\n        \"num_unique_values\": 40566,\n        \"samples\": [\n          \"hessanna\",\n          \"okelly\",\n          \"ralph18\"\n        ],\n        \"semantic_type\": \"\",\n        \"description\": \"\"\n      }\n    },\n    {\n      \"column\": \"Tweet\",\n      \"properties\": {\n        \"dtype\": \"string\",\n        \"num_unique_values\": 50000,\n        \"samples\": [\n          \"Right collection site require nearly we available.\",\n          \"Trouble smile factor nice state culture man wide population each for response.\",\n          \"Quality work finally rule they stage yeah security story group church lot myself.\"\n        ],\n        \"semantic_type\": \"\",\n        \"description\": \"\"\n      }\n    },\n    {\n      \"column\": \"Retweet Count\",\n      \"properties\": {\n        \"dtype\": \"number\",\n        \"std\": 29,\n        \"min\": 0,\n        \"max\": 100,\n        \"num_unique_values\": 101,\n        \"samples\": [\n          36,\n          30,\n          83\n        ],\n        \"semantic_type\": \"\",\n        \"description\": \"\"\n      }\n    },\n    {\n      \"column\": \"Mention Count\",\n      \"properties\": {\n        \"dtype\": \"number\",\n        \"std\": 1,\n        \"min\": 0,\n        \"max\": 5,\n        \"num_unique_values\": 6,\n        \"samples\": [\n          1,\n          5,\n          0\n        ],\n        \"semantic_type\": \"\",\n        \"description\": \"\"\n      }\n    },\n    {\n      \"column\": \"Follower Count\",\n      \"properties\": {\n        \"dtype\": \"number\",\n        \"std\": 2878,\n        \"min\": 0,\n        \"max\": 10000,\n        \"num_unique_values\": 9923,\n        \"samples\": [\n          6582,\n          6905,\n          7185\n        ],\n        \"semantic_type\": \"\",\n        \"description\": \"\"\n      }\n    },\n    {\n      \"column\": \"Verified\",\n      \"properties\": {\n        \"dtype\": \"boolean\",\n        \"num_unique_values\": 2,\n        \"samples\": [\n          true,\n          false\n        ],\n        \"semantic_type\": \"\",\n        \"description\": \"\"\n      }\n    },\n    {\n      \"column\": \"Bot Label\",\n      \"properties\": {\n        \"dtype\": \"number\",\n        \"std\": 0,\n        \"min\": 0,\n        \"max\": 1,\n        \"num_unique_values\": 2,\n        \"samples\": [\n          0,\n          1\n        ],\n        \"semantic_type\": \"\",\n        \"description\": \"\"\n      }\n    },\n    {\n      \"column\": \"Location\",\n      \"properties\": {\n        \"dtype\": \"string\",\n        \"num_unique_values\": 25199,\n        \"samples\": [\n          \"East Sarah\",\n          \"Port Jameston\"\n        ],\n        \"semantic_type\": \"\",\n        \"description\": \"\"\n      }\n    },\n    {\n      \"column\": \"Created At\",\n      \"properties\": {\n        \"dtype\": \"object\",\n        \"num_unique_values\": 49989,\n        \"samples\": [\n          \"2020-09-27 18:40:29\",\n          \"2021-10-23 09:52:16\"\n        ],\n        \"semantic_type\": \"\",\n        \"description\": \"\"\n      }\n    },\n    {\n      \"column\": \"Hashtags\",\n      \"properties\": {\n        \"dtype\": \"string\",\n        \"num_unique_values\": 34247,\n        \"samples\": [\n          \"law everything line picture responsibility\",\n          \"through institution glass century\"\n        ],\n        \"semantic_type\": \"\",\n        \"description\": \"\"\n      }\n    }\n  ]\n}"
            }
          },
          "metadata": {},
          "execution_count": 5
        }
      ]
    },
    {
      "cell_type": "code",
      "source": [
        "data_df.info()"
      ],
      "metadata": {
        "colab": {
          "base_uri": "https://localhost:8080/"
        },
        "id": "n5bsEwXe6DNK",
        "outputId": "0b2dbc50-53c1-4331-bde8-5e7cb7f74ca2"
      },
      "execution_count": 6,
      "outputs": [
        {
          "output_type": "stream",
          "name": "stdout",
          "text": [
            "<class 'pandas.core.frame.DataFrame'>\n",
            "RangeIndex: 50000 entries, 0 to 49999\n",
            "Data columns (total 11 columns):\n",
            " #   Column          Non-Null Count  Dtype \n",
            "---  ------          --------------  ----- \n",
            " 0   User ID         50000 non-null  int64 \n",
            " 1   Username        50000 non-null  object\n",
            " 2   Tweet           50000 non-null  object\n",
            " 3   Retweet Count   50000 non-null  int64 \n",
            " 4   Mention Count   50000 non-null  int64 \n",
            " 5   Follower Count  50000 non-null  int64 \n",
            " 6   Verified        50000 non-null  bool  \n",
            " 7   Bot Label       50000 non-null  int64 \n",
            " 8   Location        50000 non-null  object\n",
            " 9   Created At      50000 non-null  object\n",
            " 10  Hashtags        41659 non-null  object\n",
            "dtypes: bool(1), int64(5), object(5)\n",
            "memory usage: 3.9+ MB\n"
          ]
        }
      ]
    },
    {
      "cell_type": "code",
      "source": [
        "# Get the column headers of data_df\n",
        "column_headers = data_df.columns\n",
        "\n",
        "# Print the column headers\n",
        "print(column_headers)"
      ],
      "metadata": {
        "colab": {
          "base_uri": "https://localhost:8080/"
        },
        "id": "ONdXlgEz6E-l",
        "outputId": "0367f5ac-bd12-48a4-c4fb-c740ee1fe655"
      },
      "execution_count": 7,
      "outputs": [
        {
          "output_type": "stream",
          "name": "stdout",
          "text": [
            "Index(['User ID', 'Username', 'Tweet', 'Retweet Count', 'Mention Count',\n",
            "       'Follower Count', 'Verified', 'Bot Label', 'Location', 'Created At',\n",
            "       'Hashtags'],\n",
            "      dtype='object')\n"
          ]
        }
      ]
    },
    {
      "cell_type": "code",
      "source": [
        "# Calculate the count of each bot label\n",
        "bot_label_counts = data_df['Bot Label'].value_counts()\n",
        "\n",
        "# Plot the pie chart\n",
        "plt.pie(bot_label_counts, labels=['Genuine (Bot Label = 0)', 'Bot (Bot Label = 1)'], autopct='%1.1f%%', colors=['lightblue', 'lightcoral'])\n",
        "\n",
        "# Add title\n",
        "plt.title('Distribution of Bot Label')\n",
        "\n",
        "# Equal aspect ratio ensures that pie is drawn as a circle\n",
        "plt.axis('equal')\n",
        "\n",
        "# Show the plot\n",
        "plt.show()\n",
        "\n",
        "# Print comments on the number of data for each label\n",
        "print(\"Number of genuine users (Bot Label = 0):\", bot_label_counts[0])\n",
        "print(\"Number of bots (Bot Label = 1):\", bot_label_counts[1])"
      ],
      "metadata": {
        "colab": {
          "base_uri": "https://localhost:8080/",
          "height": 469
        },
        "id": "d-tQPK-n7FTG",
        "outputId": "7f0513f6-5ff6-484b-bd6e-ae17a059bf05"
      },
      "execution_count": 8,
      "outputs": [
        {
          "output_type": "display_data",
          "data": {
            "text/plain": [
              "<Figure size 640x480 with 1 Axes>"
            ],
            "image/png": "[encoded data removed]"
          },
          "metadata": {}
        },
        {
          "output_type": "stream",
          "name": "stdout",
          "text": [
            "Number of genuine users (Bot Label = 0): 24982\n",
            "Number of bots (Bot Label = 1): 25018\n"
          ]
        }
      ]
    },
    {
      "cell_type": "markdown",
      "source": [
        "there is a pretty even distribution which is good"
      ],
      "metadata": {
        "id": "7rq6BBjt7I9q"
      }
    },
    {
      "cell_type": "code",
      "source": [
        "# Display column headers and types\n",
        "print(data_df.info())\n"
      ],
      "metadata": {
        "colab": {
          "base_uri": "https://localhost:8080/"
        },
        "id": "ZsMWjzem6ZKF",
        "outputId": "0e894073-181b-4101-8437-96f9189b4c4a"
      },
      "execution_count": 9,
      "outputs": [
        {
          "output_type": "stream",
          "name": "stdout",
          "text": [
            "<class 'pandas.core.frame.DataFrame'>\n",
            "RangeIndex: 50000 entries, 0 to 49999\n",
            "Data columns (total 11 columns):\n",
            " #   Column          Non-Null Count  Dtype \n",
            "---  ------          --------------  ----- \n",
            " 0   User ID         50000 non-null  int64 \n",
            " 1   Username        50000 non-null  object\n",
            " 2   Tweet           50000 non-null  object\n",
            " 3   Retweet Count   50000 non-null  int64 \n",
            " 4   Mention Count   50000 non-null  int64 \n",
            " 5   Follower Count  50000 non-null  int64 \n",
            " 6   Verified        50000 non-null  bool  \n",
            " 7   Bot Label       50000 non-null  int64 \n",
            " 8   Location        50000 non-null  object\n",
            " 9   Created At      50000 non-null  object\n",
            " 10  Hashtags        41659 non-null  object\n",
            "dtypes: bool(1), int64(5), object(5)\n",
            "memory usage: 3.9+ MB\n",
            "None\n"
          ]
        }
      ]
    },
    {
      "cell_type": "code",
      "source": [
        "# Numerical variables vs. Bot Label\n",
        "numerical_variables = ['Retweet Count', 'Mention Count', 'Follower Count']\n",
        "\n",
        "for variable in numerical_variables:\n",
        "    sns.boxplot(x='Bot Label', y=variable, data=data_df)\n",
        "    plt.title(f'{variable} vs. Bot Label')\n",
        "    plt.show()\n",
        "\n",
        "# Categorical variables vs. Bot Label\n",
        "categorical_variables = ['Verified', 'Location']\n",
        "\n",
        "for variable in categorical_variables:\n",
        "    sns.countplot(x=variable, hue='Bot Label', data=data_df)\n",
        "    plt.title(f'{variable} vs. Bot Label')\n",
        "    plt.show()\n"
      ],
      "metadata": {
        "colab": {
          "base_uri": "https://localhost:8080/",
          "height": 1000
        },
        "id": "_KUB9Ejb7j-Q",
        "outputId": "ca0d27fc-f9e9-4368-f053-40a5eabebd5d"
      },
      "execution_count": null,
      "outputs": [
        {
          "output_type": "display_data",
          "data": {
            "text/plain": [
              "<Figure size 640x480 with 1 Axes>"
            ],
            "image/png": "[encoded data removed]"
          },
          "metadata": {}
        },
        {
          "output_type": "display_data",
          "data": {
            "text/plain": [
              "<Figure size 640x480 with 1 Axes>"
            ],
            "image/png": "[encoded data removed]"
          },
          "metadata": {}
        },
        {
          "output_type": "display_data",
          "data": {
            "text/plain": [
              "<Figure size 640x480 with 1 Axes>"
            ],
            "image/png": "[encoded data removed]"
          },
          "metadata": {}
        },
        {
          "output_type": "display_data",
          "data": {
            "text/plain": [
              "<Figure size 640x480 with 1 Axes>"
            ],
            "image/png": "[encoded data removed]"
          },
          "metadata": {}
        }
      ]
    },
    {
      "cell_type": "code",
      "source": [],
      "metadata": {
        "id": "MZEGQc5Q8Ahy"
      },
      "execution_count": null,
      "outputs": []
    }
  ]
}